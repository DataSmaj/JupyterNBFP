{
 "cells": [
  {
   "cell_type": "markdown",
   "id": "35203ac2-6179-41c6-a074-472c85481975",
   "metadata": {},
   "source": [
    "# Data Science Tools and Ecosystem"
   ]
  },
  {
   "cell_type": "markdown",
   "id": "6e603b0f-5fcf-4225-a6e1-db1ab57fc8c3",
   "metadata": {},
   "source": [
    "In this notebook, Data Science Tools and Ecosystems are summarized."
   ]
  },
  {
   "cell_type": "markdown",
   "id": "609e2317-649a-4c0b-8d62-b9fd636a72e9",
   "metadata": {},
   "source": [
    "**Objectives:**\n",
    "+ List popular languages for Data Science.\n",
    "+ List commonly used libraries for Data Science.\n",
    "+ Learn tools used by Data Scientists.\n",
    "+ See examples of arithmetic expressions using Python."
   ]
  },
  {
   "cell_type": "markdown",
   "id": "760d196f-1586-4c35-a18e-ce0f26849da7",
   "metadata": {},
   "source": [
    "Some of the popular languages that Data Scientists use are:\n",
    "1. Python\n",
    "2. R\n",
    "3. SQL\n",
    "4. Java\n",
    "5. C++"
   ]
  },
  {
   "cell_type": "markdown",
   "id": "80201839-46bd-48f5-94e2-eaace8579aee",
   "metadata": {},
   "source": [
    "Some of the commonly used libraries, used by Data Scientists include:\n",
    "1. SciKit\n",
    "2. Pandas\n",
    "3. Matplotlib"
   ]
  },
  {
   "cell_type": "markdown",
   "id": "24df9da3-678a-4f30-b00b-bc77438d49bf",
   "metadata": {},
   "source": [
    "| Data Science Tools |\n",
    "|--------------------|\n",
    "| Jupyter Notebooks |\n",
    "| PyCharm |\n",
    "| VS Code| "
   ]
  },
  {
   "cell_type": "markdown",
   "id": "b4502c36-11a5-4285-845b-7e30a634f22f",
   "metadata": {},
   "source": [
    "### Below are a few examples of evaluating arithmetic expressions in Python."
   ]
  },
  {
   "cell_type": "code",
   "execution_count": 1,
   "id": "5b5810f6-b3e8-4a84-a98c-3b0883d825ed",
   "metadata": {},
   "outputs": [
    {
     "data": {
      "text/plain": [
       "17"
      ]
     },
     "execution_count": 1,
     "metadata": {},
     "output_type": "execute_result"
    }
   ],
   "source": [
    "# This is a simple arithmetic expression to multiply then add integers.\n",
    "(3*4)+5\n"
   ]
  },
  {
   "cell_type": "code",
   "execution_count": 2,
   "id": "2609c1a4-4002-4dcb-9c33-47c6d0723881",
   "metadata": {},
   "outputs": [
    {
     "data": {
      "text/plain": [
       "3.3333333333333335"
      ]
     },
     "execution_count": 2,
     "metadata": {},
     "output_type": "execute_result"
    }
   ],
   "source": [
    "# This will convert 200 minutes to hours by dividing by 60.\n",
    "200/60"
   ]
  },
  {
   "cell_type": "markdown",
   "id": "d588cf67-f9b7-4cf4-826b-9379daa14090",
   "metadata": {},
   "source": [
    "## Author\n",
    "Anthony Bowen"
   ]
  }
 ],
 "metadata": {
  "kernelspec": {
   "display_name": "Python 3 (ipykernel)",
   "language": "python",
   "name": "python3"
  },
  "language_info": {
   "codemirror_mode": {
    "name": "ipython",
    "version": 3
   },
   "file_extension": ".py",
   "mimetype": "text/x-python",
   "name": "python",
   "nbconvert_exporter": "python",
   "pygments_lexer": "ipython3",
   "version": "3.11.5"
  }
 },
 "nbformat": 4,
 "nbformat_minor": 5
}
